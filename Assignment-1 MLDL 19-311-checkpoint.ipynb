{
 "cells": [
  {
   "cell_type": "raw",
   "id": "3f65979f",
   "metadata": {},
   "source": [
    "** What is 7 to the power of 4?**"
   ]
  },
  {
   "cell_type": "code",
   "execution_count": 2,
   "id": "b7ecc26a",
   "metadata": {},
   "outputs": [
    {
     "data": {
      "text/plain": [
       "2401"
      ]
     },
     "execution_count": 2,
     "metadata": {},
     "output_type": "execute_result"
    }
   ],
   "source": [
    "7 ** 4"
   ]
  },
  {
   "cell_type": "raw",
   "id": "cd4601d1",
   "metadata": {},
   "source": [
    "# ** Split this string:**"
   ]
  },
  {
   "cell_type": "markdown",
   "id": "03a7f2ea",
   "metadata": {},
   "source": [
    "s = \"Hi there Sam!\""
   ]
  },
  {
   "cell_type": "raw",
   "id": "d899aca9",
   "metadata": {},
   "source": [
    "**into a list. **"
   ]
  },
  {
   "cell_type": "code",
   "execution_count": 4,
   "id": "a53fd12f",
   "metadata": {},
   "outputs": [],
   "source": [
    "s = \"Hi there Sam!\""
   ]
  },
  {
   "cell_type": "code",
   "execution_count": 5,
   "id": "616b0e22",
   "metadata": {},
   "outputs": [
    {
     "data": {
      "text/plain": [
       "['Hi', 'there', 'Sam!']"
      ]
     },
     "execution_count": 5,
     "metadata": {},
     "output_type": "execute_result"
    }
   ],
   "source": [
    "s.split()"
   ]
  },
  {
   "cell_type": "markdown",
   "id": "42a7a70a",
   "metadata": {},
   "source": [
    "** Given the variables:**"
   ]
  },
  {
   "cell_type": "raw",
   "id": "d4296a01",
   "metadata": {},
   "source": [
    "# planet = \"Earth\"\n",
    "diameter = 12742"
   ]
  },
  {
   "cell_type": "markdown",
   "id": "e2473ab8",
   "metadata": {},
   "source": [
    "** Use .format() to print the following string: **"
   ]
  },
  {
   "cell_type": "raw",
   "id": "a6bcb939",
   "metadata": {},
   "source": [
    "The diameter of Earth is 12742 kilometers."
   ]
  },
  {
   "cell_type": "code",
   "execution_count": 8,
   "id": "7eafd494",
   "metadata": {},
   "outputs": [],
   "source": [
    "planet = \"Earth\"\n",
    "diameter = 12742"
   ]
  },
  {
   "cell_type": "code",
   "execution_count": 9,
   "id": "05e74d53",
   "metadata": {},
   "outputs": [
    {
     "name": "stdout",
     "output_type": "stream",
     "text": [
      "The diameter of Earth is 12742 kilometers\n"
     ]
    }
   ],
   "source": [
    "print(\"The diameter of {p} is {d} kilometers\".format(p=planet,d=diameter))"
   ]
  },
  {
   "cell_type": "raw",
   "id": "a73206a8",
   "metadata": {},
   "source": [
    "** Given this nested list, use indexing to grab the word “hello” **"
   ]
  },
  {
   "cell_type": "code",
   "execution_count": 10,
   "id": "e1e2b83a",
   "metadata": {},
   "outputs": [],
   "source": [
    "lst = [1,2,[3,4],[5,[100,200,['hello']],23,11],1,7]"
   ]
  },
  {
   "cell_type": "code",
   "execution_count": 11,
   "id": "9b2f1cf7",
   "metadata": {},
   "outputs": [
    {
     "data": {
      "text/plain": [
       "'hello'"
      ]
     },
     "execution_count": 11,
     "metadata": {},
     "output_type": "execute_result"
    }
   ],
   "source": [
    "lst[3][1][2][0]"
   ]
  },
  {
   "cell_type": "markdown",
   "id": "30789166",
   "metadata": {},
   "source": [
    "** Given this nested dictionary grab the word “hello”. Be prepared, this will be annoying/tricky ** "
   ]
  },
  {
   "cell_type": "code",
   "execution_count": 12,
   "id": "c1a56542",
   "metadata": {},
   "outputs": [],
   "source": [
    "d = {'k1':[1,2,3,{'tricky':['oh','man','inception',{'target':[1,2,3,'hello']}]}]}"
   ]
  },
  {
   "cell_type": "code",
   "execution_count": 13,
   "id": "02cea09c",
   "metadata": {},
   "outputs": [
    {
     "data": {
      "text/plain": [
       "'hello'"
      ]
     },
     "execution_count": 13,
     "metadata": {},
     "output_type": "execute_result"
    }
   ],
   "source": [
    "d['k1'][3]['tricky'][3]['target'][3]"
   ]
  },
  {
   "cell_type": "markdown",
   "id": "ec0a3d11",
   "metadata": {},
   "source": [
    "** What is the main difference between a tuple and a list? **"
   ]
  },
  {
   "cell_type": "code",
   "execution_count": 14,
   "id": "04525d9c",
   "metadata": {},
   "outputs": [
    {
     "data": {
      "text/plain": [
       "'Tupple is immutable'"
      ]
     },
     "execution_count": 14,
     "metadata": {},
     "output_type": "execute_result"
    }
   ],
   "source": [
    "\"Tupple is immutable\""
   ]
  },
  {
   "cell_type": "markdown",
   "id": "91298ab2",
   "metadata": {},
   "source": [
    "** Create a function that grabs the email website domain from a string in the form: **"
   ]
  },
  {
   "cell_type": "markdown",
   "id": "56c3697f",
   "metadata": {},
   "source": [
    "user@domain.com"
   ]
  },
  {
   "cell_type": "markdown",
   "id": "49ad8933",
   "metadata": {},
   "source": [
    "So for example, passing “user@domain.com” would return: domain.com"
   ]
  },
  {
   "cell_type": "code",
   "execution_count": 16,
   "id": "e9d1b245",
   "metadata": {},
   "outputs": [],
   "source": [
    "def getDomain(s):\n",
    "    return s.split('@')[1]"
   ]
  },
  {
   "cell_type": "code",
   "execution_count": 17,
   "id": "dd675373",
   "metadata": {},
   "outputs": [
    {
     "data": {
      "text/plain": [
       "'domain.com'"
      ]
     },
     "execution_count": 17,
     "metadata": {},
     "output_type": "execute_result"
    }
   ],
   "source": [
    "getDomain(\"user@domain.com\")"
   ]
  },
  {
   "cell_type": "markdown",
   "id": "0b3a4d2c",
   "metadata": {},
   "source": [
    "** Create a basic function that returns True if the word ‘dog’ is contained in the input string. Don’t worry about edge cases like a punctuation being attached to the word dog, but do account for capitalization. **"
   ]
  },
  {
   "cell_type": "code",
   "execution_count": 18,
   "id": "d444d5c0",
   "metadata": {},
   "outputs": [],
   "source": [
    "def findDog(s):\n",
    "    return \"dog\" in s.lower()"
   ]
  },
  {
   "cell_type": "code",
   "execution_count": 19,
   "id": "8c63ef13",
   "metadata": {},
   "outputs": [
    {
     "data": {
      "text/plain": [
       "True"
      ]
     },
     "execution_count": 19,
     "metadata": {},
     "output_type": "execute_result"
    }
   ],
   "source": [
    "findDog(\"Is there any Dog there ?\")"
   ]
  },
  {
   "cell_type": "markdown",
   "id": "8fff2e22",
   "metadata": {},
   "source": [
    "** Create a function that counts the number of times the word “dog” occurs in a string. Again ignore edge cases. **"
   ]
  },
  {
   "cell_type": "code",
   "execution_count": 20,
   "id": "53700253",
   "metadata": {},
   "outputs": [],
   "source": [
    "def countDog(s):\n",
    "    count = 0\n",
    "    for word in s.lower().split():\n",
    "        if \"dog\" in word:\n",
    "            count += 1\n",
    "    return count"
   ]
  },
  {
   "cell_type": "code",
   "execution_count": 21,
   "id": "a5fe1f12",
   "metadata": {},
   "outputs": [
    {
     "data": {
      "text/plain": [
       "1"
      ]
     },
     "execution_count": 21,
     "metadata": {},
     "output_type": "execute_result"
    }
   ],
   "source": [
    "countDog(\"Those doggies is dodging me\")"
   ]
  },
  {
   "cell_type": "markdown",
   "id": "2ebd4e8c",
   "metadata": {},
   "source": [
    "** Use lambda expressions and the filter() function to filter out words from a list that don’t start with the letter ‘s’. For example:**"
   ]
  },
  {
   "cell_type": "markdown",
   "id": "e0a91dd9",
   "metadata": {},
   "source": [
    "seq = ['soup','dog','salad','cat','great']"
   ]
  },
  {
   "cell_type": "markdown",
   "id": "0fc938a6",
   "metadata": {},
   "source": [
    "should be filtered down to:"
   ]
  },
  {
   "cell_type": "markdown",
   "id": "0bcc2b27",
   "metadata": {},
   "source": [
    "['soup','salad']"
   ]
  },
  {
   "cell_type": "code",
   "execution_count": 24,
   "id": "2593137a",
   "metadata": {},
   "outputs": [],
   "source": [
    "seq = ['soup','dog','salad','cat','great']"
   ]
  },
  {
   "cell_type": "code",
   "execution_count": 25,
   "id": "68b357e8",
   "metadata": {},
   "outputs": [
    {
     "data": {
      "text/plain": [
       "['soup', 'salad']"
      ]
     },
     "execution_count": 25,
     "metadata": {},
     "output_type": "execute_result"
    }
   ],
   "source": [
    "list(filter(lambda s: s[0]=='s',seq))"
   ]
  },
  {
   "cell_type": "markdown",
   "id": "e15e182d",
   "metadata": {},
   "source": [
    "# Final Problem"
   ]
  },
  {
   "cell_type": "markdown",
   "id": "224a8637",
   "metadata": {},
   "source": [
    "**You are driving a little too fast, and a police officer stops you. Write a function to return one of 3 possible results: “No ticket”, “Small ticket”, or “Big Ticket”. If your speed is 60 or less, the result is “No Ticket”. If speed is between 61 and 80 inclusive, the result is “Small Ticket”. If speed is 81 or more, the result is “Big Ticket”. Unless it is your birthday (encoded as a boolean value in the parameters of the function) – on your birthday, your speed can be 5 higher in all cases. **"
   ]
  },
  {
   "cell_type": "code",
   "execution_count": 26,
   "id": "c46a3780",
   "metadata": {},
   "outputs": [],
   "source": [
    "def ticket(speed, birthday):\n",
    "    if birthday is True:\n",
    "        speed -= 5\n",
    "    if speed > 80:\n",
    "        return \"Big Ticket\"\n",
    "    elif speed >60:\n",
    "        return \"Small Ticket\"\n",
    "    else :\n",
    "        return \"No Ticket\""
   ]
  },
  {
   "cell_type": "code",
   "execution_count": 27,
   "id": "5b558843",
   "metadata": {},
   "outputs": [
    {
     "data": {
      "text/plain": [
       "'Small Ticket'"
      ]
     },
     "execution_count": 27,
     "metadata": {},
     "output_type": "execute_result"
    }
   ],
   "source": [
    "ticket(66, True)"
   ]
  },
  {
   "cell_type": "code",
   "execution_count": 28,
   "id": "279318cb",
   "metadata": {},
   "outputs": [
    {
     "data": {
      "text/plain": [
       "'Big Ticket'"
      ]
     },
     "execution_count": 28,
     "metadata": {},
     "output_type": "execute_result"
    }
   ],
   "source": [
    "ticket(81, False)"
   ]
  },
  {
   "cell_type": "code",
   "execution_count": null,
   "id": "856950dd",
   "metadata": {},
   "outputs": [],
   "source": []
  }
 ],
 "metadata": {
  "kernelspec": {
   "display_name": "Python 3 (ipykernel)",
   "language": "python",
   "name": "python3"
  },
  "language_info": {
   "codemirror_mode": {
    "name": "ipython",
    "version": 3
   },
   "file_extension": ".py",
   "mimetype": "text/x-python",
   "name": "python",
   "nbconvert_exporter": "python",
   "pygments_lexer": "ipython3",
   "version": "3.9.7"
  }
 },
 "nbformat": 4,
 "nbformat_minor": 5
}
